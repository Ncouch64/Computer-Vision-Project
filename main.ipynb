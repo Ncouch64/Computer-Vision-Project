{
 "cells": [
  {
   "cell_type": "code",
   "execution_count": 31,
   "metadata": {},
   "outputs": [],
   "source": [
    "import cv2\n",
    "from visual_odometry import VisualOdometry"
   ]
  },
  {
   "cell_type": "markdown",
   "metadata": {},
   "source": [
    "import os\n",
    "import cv2\n",
    "import numpy as np\n",
    "import matplotlib.pyplot as plt\n",
    "from visual_odometry import VisualOdometry\n",
    "\n",
    "# Load images\n",
    "image_dir = 'data/images'\n",
    "image_paths = sorted([os.path.join(image_dir, fname) for fname in os.listdir(image_dir)])\n",
    "images = [cv2.imread(path, cv2.IMREAD_GRAYSCALE) for path in image_paths]\n",
    "\n",
    "# Define the grid size\n",
    "grid_size = (10, 10)  # 10x10 grid for 100 images\n",
    "\n",
    "# Resize images to fit into the grid\n",
    "resized_images = [cv2.resize(image, (100, 100)) for image in images[:100]]  # Resize to 100x100 pixels\n",
    "\n",
    "# Create an empty canvas to place the images\n",
    "canvas = np.zeros((1000, 1000), dtype=np.uint8)  # 1000x1000 pixels canvas\n",
    "\n",
    "# Place images into the canvas\n",
    "for idx, image in enumerate(resized_images):\n",
    "    row = idx // grid_size[1]\n",
    "    col = idx % grid_size[1]\n",
    "    canvas[row*100:(row+1)*100, col*100:(col+1)*100] = image\n",
    "\n",
    "# Display the canvas using matplotlib\n",
    "plt.figure(figsize=(10, 10))\n",
    "plt.imshow(canvas, cmap='gray')\n",
    "plt.axis('off')\n",
    "plt.show()"
   ]
  },
  {
   "cell_type": "code",
   "execution_count": null,
   "metadata": {},
   "outputs": [],
   "source": []
  },
  {
   "cell_type": "markdown",
   "metadata": {},
   "source": [
    "##### Here we are going to be working with a subset of kitti sequence 00, specifically the first 1000 frame of this sequence\n",
    "# First, canny algorithm on kitti sequence-\n",
    "### Using the algorithm written for assigment 1"
   ]
  },
  {
   "cell_type": "code",
   "execution_count": null,
   "metadata": {},
   "outputs": [],
   "source": []
  },
  {
   "cell_type": "markdown",
   "metadata": {},
   "source": [
    "# Next, a quick exploration of Mono Visual Odometry on Kitti\n",
    "## This is to further expand on the image processing idea"
   ]
  },
  {
   "cell_type": "markdown",
   "metadata": {},
   "source": []
  }
 ],
 "metadata": {
  "kernelspec": {
   "display_name": "cv_venv",
   "language": "python",
   "name": "python3"
  },
  "language_info": {
   "codemirror_mode": {
    "name": "ipython",
    "version": 3
   },
   "file_extension": ".py",
   "mimetype": "text/x-python",
   "name": "python",
   "nbconvert_exporter": "python",
   "pygments_lexer": "ipython3",
   "version": "3.12.7"
  }
 },
 "nbformat": 4,
 "nbformat_minor": 2
}
